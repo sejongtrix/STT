{
 "cells": [
  {
   "cell_type": "code",
   "execution_count": 10,
   "metadata": {},
   "outputs": [
    {
     "name": "stdout",
     "output_type": "stream",
     "text": [
      "\n",
      "총 41개의 WAV 파일을 찾았습니다.\n"
     ]
    }
   ],
   "source": [
    "import os\n",
    "\n",
    "root_dir = \"005.국제 학술회의용 전문분야 한영-영한 통번역 데이터/3.개방데이터/1.데이터/Training/01.원천데이터\"\n",
    "\n",
    "wav_paths = []\n",
    "for dirpath, dirnames, filenames in os.walk(root_dir):\n",
    "    for filename in filenames:\n",
    "        if filename.lower().endswith(\".wav\"):\n",
    "            full_path = os.path.join(dirpath, filename)\n",
    "            wav_paths.append(full_path)\n",
    "\n",
    "print(f\"\\n총 {len(wav_paths)}개의 WAV 파일을 찾았습니다.\")\n"
   ]
  },
  {
   "cell_type": "code",
   "execution_count": 2,
   "metadata": {},
   "outputs": [
    {
     "name": "stdout",
     "output_type": "stream",
     "text": [
      "Detected language: Korean\n"
     ]
    },
    {
     "name": "stderr",
     "output_type": "stream",
     "text": [
      "100%|██████████| 204153/204153 [01:09<00:00, 2929.90frames/s]\n"
     ]
    },
    {
     "name": "stdout",
     "output_type": "stream",
     "text": [
      "Detected language: Korean\n"
     ]
    },
    {
     "name": "stderr",
     "output_type": "stream",
     "text": [
      "100%|██████████| 277620/277620 [01:40<00:00, 2764.54frames/s]\n"
     ]
    },
    {
     "name": "stdout",
     "output_type": "stream",
     "text": [
      "Detected language: Korean\n"
     ]
    },
    {
     "name": "stderr",
     "output_type": "stream",
     "text": [
      "100%|██████████| 198546/198546 [01:03<00:00, 3117.78frames/s]\n"
     ]
    },
    {
     "name": "stdout",
     "output_type": "stream",
     "text": [
      "Detected language: Korean\n"
     ]
    },
    {
     "name": "stderr",
     "output_type": "stream",
     "text": [
      "100%|██████████| 192768/192768 [01:06<00:00, 2897.06frames/s]\n"
     ]
    },
    {
     "name": "stdout",
     "output_type": "stream",
     "text": [
      "Detected language: Korean\n"
     ]
    },
    {
     "name": "stderr",
     "output_type": "stream",
     "text": [
      "100%|██████████| 285862/285862 [01:28<00:00, 3237.02frames/s]\n"
     ]
    },
    {
     "name": "stdout",
     "output_type": "stream",
     "text": [
      "Detected language: Korean\n"
     ]
    },
    {
     "name": "stderr",
     "output_type": "stream",
     "text": [
      "100%|██████████| 225902/225902 [01:20<00:00, 2811.12frames/s]\n"
     ]
    },
    {
     "name": "stdout",
     "output_type": "stream",
     "text": [
      "Detected language: Korean\n"
     ]
    },
    {
     "name": "stderr",
     "output_type": "stream",
     "text": [
      "100%|██████████| 277148/277148 [01:31<00:00, 3038.69frames/s]\n"
     ]
    },
    {
     "name": "stdout",
     "output_type": "stream",
     "text": [
      "Detected language: Korean\n"
     ]
    },
    {
     "name": "stderr",
     "output_type": "stream",
     "text": [
      "100%|██████████| 176859/176859 [00:52<00:00, 3361.58frames/s]\n"
     ]
    },
    {
     "name": "stdout",
     "output_type": "stream",
     "text": [
      "Detected language: Korean\n"
     ]
    },
    {
     "name": "stderr",
     "output_type": "stream",
     "text": [
      "100%|██████████| 234365/234365 [01:19<00:00, 2939.64frames/s]\n"
     ]
    },
    {
     "name": "stdout",
     "output_type": "stream",
     "text": [
      "Detected language: Korean\n"
     ]
    },
    {
     "name": "stderr",
     "output_type": "stream",
     "text": [
      "100%|██████████| 196013/196013 [01:01<00:00, 3210.15frames/s]\n"
     ]
    },
    {
     "name": "stdout",
     "output_type": "stream",
     "text": [
      "Detected language: Korean\n"
     ]
    },
    {
     "name": "stderr",
     "output_type": "stream",
     "text": [
      "100%|██████████| 204606/204606 [01:05<00:00, 3123.81frames/s]\n"
     ]
    },
    {
     "name": "stdout",
     "output_type": "stream",
     "text": [
      "Detected language: Korean\n"
     ]
    },
    {
     "name": "stderr",
     "output_type": "stream",
     "text": [
      "100%|██████████| 227656/227656 [01:14<00:00, 3061.19frames/s]\n"
     ]
    },
    {
     "name": "stdout",
     "output_type": "stream",
     "text": [
      "Detected language: Korean\n"
     ]
    },
    {
     "name": "stderr",
     "output_type": "stream",
     "text": [
      "100%|██████████| 186250/186250 [00:59<00:00, 3129.78frames/s]\n"
     ]
    },
    {
     "name": "stdout",
     "output_type": "stream",
     "text": [
      "Detected language: Korean\n"
     ]
    },
    {
     "name": "stderr",
     "output_type": "stream",
     "text": [
      "100%|██████████| 203753/203753 [00:59<00:00, 3409.41frames/s]\n"
     ]
    },
    {
     "name": "stdout",
     "output_type": "stream",
     "text": [
      "Detected language: Korean\n"
     ]
    },
    {
     "name": "stderr",
     "output_type": "stream",
     "text": [
      "100%|██████████| 176303/176303 [00:52<00:00, 3376.63frames/s]\n"
     ]
    },
    {
     "name": "stdout",
     "output_type": "stream",
     "text": [
      "Detected language: Korean\n"
     ]
    },
    {
     "name": "stderr",
     "output_type": "stream",
     "text": [
      "100%|██████████| 267486/267486 [01:25<00:00, 3142.00frames/s]\n"
     ]
    },
    {
     "name": "stdout",
     "output_type": "stream",
     "text": [
      "Detected language: Korean\n"
     ]
    },
    {
     "name": "stderr",
     "output_type": "stream",
     "text": [
      "100%|██████████| 328551/328551 [01:53<00:00, 2899.48frames/s]\n"
     ]
    },
    {
     "name": "stdout",
     "output_type": "stream",
     "text": [
      "Detected language: Korean\n"
     ]
    },
    {
     "name": "stderr",
     "output_type": "stream",
     "text": [
      "100%|██████████| 60439/60439 [00:22<00:00, 2686.30frames/s]\n"
     ]
    },
    {
     "name": "stdout",
     "output_type": "stream",
     "text": [
      "Detected language: Korean\n"
     ]
    },
    {
     "name": "stderr",
     "output_type": "stream",
     "text": [
      "100%|██████████| 109754/109754 [00:34<00:00, 3139.62frames/s]\n"
     ]
    },
    {
     "name": "stdout",
     "output_type": "stream",
     "text": [
      "Detected language: Korean\n"
     ]
    },
    {
     "name": "stderr",
     "output_type": "stream",
     "text": [
      "100%|██████████| 223201/223201 [01:26<00:00, 2592.16frames/s]\n"
     ]
    },
    {
     "name": "stdout",
     "output_type": "stream",
     "text": [
      "Detected language: Korean\n"
     ]
    },
    {
     "name": "stderr",
     "output_type": "stream",
     "text": [
      "100%|██████████| 230416/230416 [01:34<00:00, 2431.36frames/s]\n"
     ]
    },
    {
     "name": "stdout",
     "output_type": "stream",
     "text": [
      "Detected language: Korean\n"
     ]
    },
    {
     "name": "stderr",
     "output_type": "stream",
     "text": [
      "100%|██████████| 79782/79782 [00:26<00:00, 3012.67frames/s]\n"
     ]
    },
    {
     "name": "stdout",
     "output_type": "stream",
     "text": [
      "Detected language: Korean\n"
     ]
    },
    {
     "name": "stderr",
     "output_type": "stream",
     "text": [
      "100%|██████████| 122340/122340 [00:37<00:00, 3235.51frames/s]\n"
     ]
    },
    {
     "name": "stdout",
     "output_type": "stream",
     "text": [
      "Detected language: Korean\n"
     ]
    },
    {
     "name": "stderr",
     "output_type": "stream",
     "text": [
      "100%|██████████| 41996/41996 [00:13<00:00, 3170.06frames/s]\n"
     ]
    },
    {
     "name": "stdout",
     "output_type": "stream",
     "text": [
      "Detected language: Korean\n"
     ]
    },
    {
     "name": "stderr",
     "output_type": "stream",
     "text": [
      "100%|██████████| 147214/147214 [00:50<00:00, 2933.74frames/s]\n"
     ]
    },
    {
     "name": "stdout",
     "output_type": "stream",
     "text": [
      "Detected language: Korean\n"
     ]
    },
    {
     "name": "stderr",
     "output_type": "stream",
     "text": [
      "100%|██████████| 254204/254204 [01:24<00:00, 3000.64frames/s]\n"
     ]
    },
    {
     "name": "stdout",
     "output_type": "stream",
     "text": [
      "Detected language: Korean\n"
     ]
    },
    {
     "name": "stderr",
     "output_type": "stream",
     "text": [
      "100%|██████████| 332638/332638 [01:36<00:00, 3434.92frames/s]\n"
     ]
    },
    {
     "name": "stdout",
     "output_type": "stream",
     "text": [
      "Detected language: Korean\n"
     ]
    },
    {
     "name": "stderr",
     "output_type": "stream",
     "text": [
      "100%|██████████| 36631/36631 [00:13<00:00, 2637.14frames/s]\n"
     ]
    },
    {
     "name": "stdout",
     "output_type": "stream",
     "text": [
      "Detected language: Korean\n"
     ]
    },
    {
     "name": "stderr",
     "output_type": "stream",
     "text": [
      "100%|██████████| 394008/394008 [02:04<00:00, 3170.42frames/s]\n"
     ]
    },
    {
     "name": "stdout",
     "output_type": "stream",
     "text": [
      "Detected language: Korean\n"
     ]
    },
    {
     "name": "stderr",
     "output_type": "stream",
     "text": [
      "100%|██████████| 345544/345544 [01:59<00:00, 2898.30frames/s]\n"
     ]
    },
    {
     "name": "stdout",
     "output_type": "stream",
     "text": [
      "Detected language: Korean\n"
     ]
    },
    {
     "name": "stderr",
     "output_type": "stream",
     "text": [
      "100%|██████████| 39471/39471 [00:12<00:00, 3283.76frames/s]\n"
     ]
    },
    {
     "name": "stdout",
     "output_type": "stream",
     "text": [
      "Detected language: Korean\n"
     ]
    },
    {
     "name": "stderr",
     "output_type": "stream",
     "text": [
      "100%|██████████| 257525/257525 [01:23<00:00, 3087.09frames/s]\n"
     ]
    },
    {
     "name": "stdout",
     "output_type": "stream",
     "text": [
      "Detected language: Korean\n"
     ]
    },
    {
     "name": "stderr",
     "output_type": "stream",
     "text": [
      "100%|██████████| 294408/294408 [01:29<00:00, 3300.68frames/s]\n"
     ]
    },
    {
     "name": "stdout",
     "output_type": "stream",
     "text": [
      "Detected language: Korean\n"
     ]
    },
    {
     "name": "stderr",
     "output_type": "stream",
     "text": [
      "100%|██████████| 118849/118849 [00:37<00:00, 3179.78frames/s]\n"
     ]
    },
    {
     "name": "stdout",
     "output_type": "stream",
     "text": [
      "Detected language: Korean\n"
     ]
    },
    {
     "name": "stderr",
     "output_type": "stream",
     "text": [
      "100%|██████████| 106536/106536 [00:33<00:00, 3182.09frames/s]\n"
     ]
    },
    {
     "name": "stdout",
     "output_type": "stream",
     "text": [
      "Detected language: Korean\n"
     ]
    },
    {
     "name": "stderr",
     "output_type": "stream",
     "text": [
      "100%|██████████| 179808/179808 [01:07<00:00, 2676.46frames/s]\n"
     ]
    },
    {
     "name": "stdout",
     "output_type": "stream",
     "text": [
      "Detected language: Korean\n"
     ]
    },
    {
     "name": "stderr",
     "output_type": "stream",
     "text": [
      "100%|██████████| 124635/124635 [00:39<00:00, 3154.62frames/s]\n"
     ]
    },
    {
     "name": "stdout",
     "output_type": "stream",
     "text": [
      "Detected language: Korean\n"
     ]
    },
    {
     "name": "stderr",
     "output_type": "stream",
     "text": [
      "100%|██████████| 501/501 [00:00<00:00, 2762.65frames/s]\n"
     ]
    },
    {
     "name": "stdout",
     "output_type": "stream",
     "text": [
      "Detected language: Korean\n"
     ]
    },
    {
     "name": "stderr",
     "output_type": "stream",
     "text": [
      "100%|██████████| 311395/311395 [01:33<00:00, 3338.62frames/s]\n"
     ]
    },
    {
     "name": "stdout",
     "output_type": "stream",
     "text": [
      "Detected language: Korean\n"
     ]
    },
    {
     "name": "stderr",
     "output_type": "stream",
     "text": [
      "100%|██████████| 162605/162605 [00:56<00:00, 2873.39frames/s]\n"
     ]
    },
    {
     "name": "stdout",
     "output_type": "stream",
     "text": [
      "Detected language: Korean\n"
     ]
    },
    {
     "name": "stderr",
     "output_type": "stream",
     "text": [
      "100%|██████████| 198483/198483 [01:02<00:00, 3191.16frames/s]\n"
     ]
    }
   ],
   "source": [
    "import whisper\n",
    "\n",
    "model = whisper.load_model(\"turbo\")\n",
    "\n",
    "transcribed = []\n",
    "for path in wav_paths:\n",
    "    transcribed.append(model.transcribe(\n",
    "        path,\n",
    "        verbose=False,\n",
    "    ))"
   ]
  },
  {
   "cell_type": "code",
   "execution_count": 3,
   "metadata": {},
   "outputs": [
    {
     "name": "stdout",
     "output_type": "stream",
     "text": [
      "005.국제 학술회의용 전문분야 한영-영한 통번역 데이터/3.개방데이터/1.데이터/Training/02.라벨링데이터/TS_ko_EA/K_EA_50018.json\n",
      "005.국제 학술회의용 전문분야 한영-영한 통번역 데이터/3.개방데이터/1.데이터/Training/02.라벨링데이터/TS_ko_EA/K_EA_50029.json\n",
      "005.국제 학술회의용 전문분야 한영-영한 통번역 데이터/3.개방데이터/1.데이터/Training/02.라벨링데이터/TS_ko_EA/K_EA_50049.json\n",
      "005.국제 학술회의용 전문분야 한영-영한 통번역 데이터/3.개방데이터/1.데이터/Training/02.라벨링데이터/TS_ko_EA/K_EA_50048.json\n",
      "005.국제 학술회의용 전문분야 한영-영한 통번역 데이터/3.개방데이터/1.데이터/Training/02.라벨링데이터/TS_ko_EA/K_EA_50054.json\n",
      "005.국제 학술회의용 전문분야 한영-영한 통번역 데이터/3.개방데이터/1.데이터/Training/02.라벨링데이터/TS_ko_EA/K_EA_50045.json\n",
      "005.국제 학술회의용 전문분야 한영-영한 통번역 데이터/3.개방데이터/1.데이터/Training/02.라벨링데이터/TS_ko_EA/K_EA_50022.json\n",
      "005.국제 학술회의용 전문분야 한영-영한 통번역 데이터/3.개방데이터/1.데이터/Training/02.라벨링데이터/TS_ko_EA/K_EA_50041.json\n",
      "005.국제 학술회의용 전문분야 한영-영한 통번역 데이터/3.개방데이터/1.데이터/Training/02.라벨링데이터/TS_ko_EA/K_EA_50030.json\n",
      "005.국제 학술회의용 전문분야 한영-영한 통번역 데이터/3.개방데이터/1.데이터/Training/02.라벨링데이터/TS_ko_EA/K_EA_50036.json\n",
      "\n",
      "총 41개의 JSON 경로를 생성했습니다.\n"
     ]
    }
   ],
   "source": [
    "import os\n",
    "\n",
    "original_root = \"005.국제 학술회의용 전문분야 한영-영한 통번역 데이터/3.개방데이터/1.데이터/Training/01.원천데이터\"\n",
    "\n",
    "json_paths = []\n",
    "for dirpath, dirnames, filenames in os.walk(original_root):\n",
    "    for filename in filenames:\n",
    "        if filename.lower().endswith(\".wav\"):\n",
    "            wav_path = os.path.join(dirpath, filename)\n",
    "\n",
    "            json_path = os.path.splitext(wav_path)[0] + \".json\"\n",
    "\n",
    "            json_path = json_path.replace(\"01.원천데이터\", \"02.라벨링데이터\")\n",
    "\n",
    "            json_paths.append(json_path)\n",
    "\n",
    "for path in json_paths[:10]:\n",
    "    print(path)\n",
    "\n",
    "print(f\"\\n총 {len(json_paths)}개의 JSON 경로를 생성했습니다.\")"
   ]
  },
  {
   "cell_type": "code",
   "execution_count": 14,
   "metadata": {},
   "outputs": [
    {
     "data": {
      "text/plain": [
       "'005.국제 학술회의용 전문분야 한영-영한 통번역 데이터/3.개방데이터/1.데이터/Training/01.원천데이터/TS_ko_EA/K_EA_50018.csv'"
      ]
     },
     "execution_count": 14,
     "metadata": {},
     "output_type": "execute_result"
    }
   ],
   "source": [
    "wav_paths[0].replace(\".wav\", \".csv\")"
   ]
  },
  {
   "cell_type": "code",
   "execution_count": 17,
   "metadata": {},
   "outputs": [],
   "source": [
    "import csv\n",
    "\n",
    "for transcribe,filename in zip(transcribed, wav_paths):\n",
    "    with open(filename.replace(\".wav\", \".csv\"), \"w\", newline=\"\", encoding=\"utf-8\") as csvfile:\n",
    "        writer = csv.writer(csvfile)\n",
    "        writer.writerow([\"index\", \"start\", \"end\", \"text\"])\n",
    "\n",
    "        for i, seg in enumerate(transcribe[\"segments\"], start=1):\n",
    "            writer.writerow([i, f\"{seg['start']:.2f}\", f\"{seg['end']:.2f}\", seg[\"text\"].strip()])"
   ]
  },
  {
   "cell_type": "code",
   "execution_count": null,
   "metadata": {},
   "outputs": [],
   "source": [
    "\"\"\"\n",
    "import os\n",
    "import csv\n",
    "\n",
    "for transcribe, filename in zip(transcribed, wav_paths):\n",
    "    csv_path = filename.replace(\".wav\", \".csv\")\n",
    "    os.makedirs(os.path.dirname(csv_path), exist_ok=True)  # ✅ 디렉토리 생성\n",
    "\n",
    "    with open(csv_path, \"w\", newline=\"\", encoding=\"utf-8\") as csvfile:\n",
    "        writer = csv.writer(csvfile)\n",
    "        writer.writerow([\"index\", \"start\", \"end\", \"text\"])\n",
    "\n",
    "        for i, seg in enumerate(transcribe[\"segments\"], start=1):\n",
    "            writer.writerow([i, f\"{seg['start']:.2f}\", f\"{seg['end']:.2f}\", seg[\"text\"].strip()])\n",
    "\"\"\""
   ]
  },
  {
   "cell_type": "code",
   "execution_count": null,
   "metadata": {},
   "outputs": [],
   "source": [
    "import pandas as pd\n",
    "\n",
    "result = pd.read_csv(\"transcription.csv\")"
   ]
  },
  {
   "cell_type": "code",
   "execution_count": null,
   "metadata": {},
   "outputs": [
    {
     "name": "stderr",
     "output_type": "stream",
     "text": [
      "You passed along `num_labels=3` with an incompatible id to label map: {'0': 'NEGATIVE', '1': 'POSITIVE'}. The number of labels will be overwritten to 2.\n",
      "You passed along `num_labels=3` with an incompatible id to label map: {'0': 'NEGATIVE', '1': 'POSITIVE'}. The number of labels will be overwritten to 2.\n"
     ]
    },
    {
     "name": "stdout",
     "output_type": "stream",
     "text": [
      "                                                                                                                             \n"
     ]
    }
   ],
   "source": [
    "import torch\n",
    "from transformers import BartForConditionalGeneration, PreTrainedTokenizerFast\n",
    "\n",
    "# 모델과 토크나이저 로드\n",
    "tokenizer = PreTrainedTokenizerFast.from_pretrained(\"skt/kobart-base-v1\")\n",
    "model = BartForConditionalGeneration.from_pretrained(\"skt/kobart-base-v1\").to(\"cuda\").eval()\n",
    "\n",
    "\n",
    "# 입력 텍스트\n",
    "text = f\"\"\"다음 문장은 음성 인식 결과입니다. 잘못된 부분을 자연스럽게 고쳐주세요.\n",
    "음성 인식 결과: {result[\"text\"]}\n",
    "고쳐진 문장:\"\"\"\n",
    "\n",
    "# 토크나이즈 (최대 길이 제한)\n",
    "inputs = tokenizer(\n",
    "    text,\n",
    "    return_tensors=\"pt\",\n",
    "    max_length=1024,\n",
    "    truncation=True\n",
    ")\n",
    "inputs = {k: v.to(\"cuda\") for k, v in inputs.items()}\n",
    "\n",
    "# 텍스트 생성\n",
    "with torch.inference_mode():\n",
    "    generated_ids = model.generate(inputs['input_ids'], max_length=128)\n",
    "\n",
    "# 디코딩\n",
    "output_text = tokenizer.decode(generated_ids[0].cpu().tolist(), skip_special_tokens=True)\n",
    "print(output_text)\n"
   ]
  }
 ],
 "metadata": {
  "kernelspec": {
   "display_name": "SST",
   "language": "python",
   "name": "python3"
  },
  "language_info": {
   "codemirror_mode": {
    "name": "ipython",
    "version": 3
   },
   "file_extension": ".py",
   "mimetype": "text/x-python",
   "name": "python",
   "nbconvert_exporter": "python",
   "pygments_lexer": "ipython3",
   "version": "3.13.5"
  }
 },
 "nbformat": 4,
 "nbformat_minor": 2
}
